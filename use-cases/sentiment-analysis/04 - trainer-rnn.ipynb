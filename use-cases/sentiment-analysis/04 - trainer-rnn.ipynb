{
 "cells": [
  {
   "cell_type": "code",
   "execution_count": 1,
   "id": "b6e38708-4880-4322-bab0-45074f430dc3",
   "metadata": {},
   "outputs": [],
   "source": [
    "import os\n",
    "import sys\n",
    "import math\n",
    "from typing import *\n",
    "from tqdm.auto import tqdm\n",
    "import torch\n",
    "from torch import nn, Tensor, optim\n",
    "from torch.utils.data import DataLoader\n",
    "import datasets\n",
    "from datasets import *\n",
    "from transformers import AutoTokenizer, DataCollatorWithPadding\n",
    "import project_paths as pp"
   ]
  },
  {
   "cell_type": "code",
   "execution_count": 2,
   "id": "53ca0bc0-e475-4011-977d-bb827d29675c",
   "metadata": {},
   "outputs": [],
   "source": [
    "sys.path.append(os.path.realpath(os.path.join(os.path.dirname(pp.current_file_path), '..', '..')))\n",
    "from models import RNN"
   ]
  },
  {
   "cell_type": "code",
   "execution_count": 3,
   "id": "e83483f6-4e9a-4135-892d-77f0a5c23046",
   "metadata": {},
   "outputs": [
    {
     "data": {
      "application/vnd.jupyter.widget-view+json": {
       "model_id": "b2998aeab8604fb78a0cfb0e3de99c40",
       "version_major": 2,
       "version_minor": 0
      },
      "text/plain": [
       "Filter:   0%|          | 0/16750 [00:00<?, ? examples/s]"
      ]
     },
     "metadata": {},
     "output_type": "display_data"
    },
    {
     "data": {
      "application/vnd.jupyter.widget-view+json": {
       "model_id": "35f8aab9ad7c45568949738f3c124bc8",
       "version_major": 2,
       "version_minor": 0
      },
      "text/plain": [
       "Filter:   0%|          | 0/8250 [00:00<?, ? examples/s]"
      ]
     },
     "metadata": {},
     "output_type": "display_data"
    }
   ],
   "source": [
    "dataset_folder_path = os.path.join(pp.aclImdb_dataset_folder_path, 'train')\n",
    "dataset = datasets.load_from_disk(dataset_folder_path)\n",
    "\n",
    "train_and_val_datasets = dataset.train_test_split(test_size=0.33)\n",
    "train_dataset = train_and_val_datasets['train']\n",
    "val_dataset = train_and_val_datasets['test']\n",
    "\n",
    "len_train_dataset = len(train_dataset)\n",
    "num_pos_instances_in_train_dataset = len(train_dataset.filter(lambda item: item['label'] == 'pos'))\n",
    "num_neg_instances_in_train_dataset = len_train_dataset - num_pos_instances_in_train_dataset\n",
    "\n",
    "len_val_dataset = len(val_dataset)\n",
    "num_pos_instances_in_val_dataset = len(val_dataset.filter(lambda item: item['label'] == 'pos'))\n",
    "num_neg_instances_in_val_dataset = len_val_dataset - num_pos_instances_in_val_dataset"
   ]
  },
  {
   "cell_type": "code",
   "execution_count": 4,
   "id": "4dc64152-0838-4873-bcb6-9c990effe819",
   "metadata": {},
   "outputs": [],
   "source": [
    "tokenizer_folder_path = os.path.join(pp.word_piece_tokenizer_folder_path, 'aclImdb_4096')\n",
    "tokenizer = AutoTokenizer.from_pretrained(tokenizer_folder_path)\n",
    "tokenizer.padding_side = 'left'"
   ]
  },
  {
   "cell_type": "code",
   "execution_count": 5,
   "id": "2977b7d8-2689-41ea-bb6a-3db13a814612",
   "metadata": {},
   "outputs": [
    {
     "name": "stderr",
     "output_type": "stream",
     "text": [
      "D:\\Codes\\Python\\Randoms\\Sequence-2-Sequence-Modeling\\modules.py:22: UserWarning: To copy construct from a tensor, it is recommended to use sourceTensor.clone().detach() or sourceTensor.clone().detach().requires_grad_(True), rather than torch.tensor(sourceTensor).\n",
      "  self.register_buffer('input_dim', torch.tensor(input_dim))\n",
      "D:\\Codes\\Python\\Randoms\\Sequence-2-Sequence-Modeling\\modules.py:23: UserWarning: To copy construct from a tensor, it is recommended to use sourceTensor.clone().detach() or sourceTensor.clone().detach().requires_grad_(True), rather than torch.tensor(sourceTensor).\n",
      "  self.register_buffer('hidden_dim', torch.tensor(hidden_dim))\n"
     ]
    },
    {
     "data": {
      "text/plain": [
       "RNN(\n",
       "  (embedding): Embedding(4096, 256)\n",
       "  (rnn_cells): ModuleList(\n",
       "    (0-2): 3 x RNNCell(\n",
       "      (W_h): Linear(in_features=512, out_features=256, bias=True)\n",
       "      (f_h): Tanh()\n",
       "    )\n",
       "  )\n",
       "  (output_layer): Linear(in_features=256, out_features=1, bias=False)\n",
       ")"
      ]
     },
     "execution_count": 5,
     "metadata": {},
     "output_type": "execute_result"
    }
   ],
   "source": [
    "vocab_size = tokenizer.vocab_size\n",
    "embedding_dim = 256\n",
    "hidden_size = 256\n",
    "output_size = 1\n",
    "num_rnn_cells = 3\n",
    "\n",
    "model = RNN(vocab_size, embedding_dim, hidden_size, output_size, num_rnn_cells)\n",
    "device = torch.device('cuda' if torch.cuda.is_available() else 'cpu')\n",
    "model.to(device)"
   ]
  },
  {
   "cell_type": "code",
   "execution_count": 6,
   "id": "d098f9ac-75c9-4aca-be6d-b80d64e70607",
   "metadata": {},
   "outputs": [],
   "source": [
    "learning_rate = 1e-3\n",
    "train_batch_size = 256\n",
    "val_batch_size = 256\n",
    "num_epochs = 5\n",
    "num_train_batches = math.ceil(len(train_dataset) / train_batch_size)\n",
    "num_val_batches = math.ceil(len(val_dataset) / val_batch_size)\n",
    "\n",
    "criterion = nn.BCEWithLogitsLoss()\n",
    "optimizer = optim.AdamW(model.parameters(), lr=learning_rate)"
   ]
  },
  {
   "cell_type": "code",
   "execution_count": 7,
   "id": "122129b6-543b-4db9-821b-3dcd35290389",
   "metadata": {},
   "outputs": [],
   "source": [
    "label_map = {'neg': 0, 'pos': 1}\n",
    "def collate_fn(batch):\n",
    "    texts = [item['text'] for item in batch]\n",
    "    labels = [[label_map[item['label']]] for item in batch]    \n",
    "    encodings = tokenizer(texts, padding=True, truncation=True, max_length=1024, return_tensors='pt')\n",
    "    input_ids = encodings['input_ids']\n",
    "    # attention_mask = encodings['attention_mask']\n",
    "    labels = torch.tensor(labels, dtype=torch.float32)\n",
    "\n",
    "    return {\n",
    "        'texts': texts,\n",
    "        'input_ids': input_ids,\n",
    "        'labels': labels\n",
    "    }\n",
    "\n",
    "train_dataloader = DataLoader(train_dataset, batch_size=train_batch_size, shuffle=True, collate_fn=collate_fn)\n",
    "val_dataloader = DataLoader(val_dataset, batch_size=val_batch_size, shuffle=True, collate_fn=collate_fn)"
   ]
  },
  {
   "cell_type": "code",
   "execution_count": null,
   "id": "710faec9-6b9b-4d6a-aef2-02afa2f6e902",
   "metadata": {},
   "outputs": [
    {
     "data": {
      "application/vnd.jupyter.widget-view+json": {
       "model_id": "41cdfbaf913e40809b6a4076799894cf",
       "version_major": 2,
       "version_minor": 0
      },
      "text/plain": [
       "  0%|                                                                                                         …"
      ]
     },
     "metadata": {},
     "output_type": "display_data"
    }
   ],
   "source": [
    "torch.autograd.set_detect_anomaly(True)\n",
    "progress_bar = tqdm(total=num_epochs * num_train_batches, dynamic_ncols=True)\n",
    "for epoch_idx in range(num_epochs):\n",
    "    model.train()\n",
    "    epoch_loss = 0\n",
    "\n",
    "    for batch_idx, batch in enumerate(train_dataloader):\n",
    "        texts = batch['texts']\n",
    "        input_ids = batch['input_ids'].to(device)\n",
    "        labels = batch['labels'].to(device)\n",
    "\n",
    "        optimizer.zero_grad()\n",
    "        output_logits = model(input_ids)[:, -1, :]\n",
    "\n",
    "        loss = criterion(output_logits, labels)\n",
    "        loss.backward()\n",
    "        optimizer.step()\n",
    "\n",
    "        epoch_loss += loss.item()\n",
    "\n",
    "        progress_bar.set_description(f'Batch loss: {round(loss.item(), 3)}')\n",
    "        progress_bar.update(1)\n",
    "\n",
    "    avg_loss = epoch_loss / len_train_dataset\n",
    "    print(f'Epoch {epoch_idx + 1} average loss: {round(avg_loss, 3)}')\n",
    "progress_bar.close()"
   ]
  },
  {
   "cell_type": "raw",
   "id": "acee1839-59ca-4c1d-8d87-5f8b6f42b6dd",
   "metadata": {},
   "source": [
    "model_save_file_path = os.path.join(pp.rnn_models_folder_path, f'{str(num_rnn_cells).zfill(2)}.pth')\n",
    "model.save(model.state_dict(), model_save_file_path)"
   ]
  },
  {
   "cell_type": "code",
   "execution_count": null,
   "id": "72bbe225-6c03-464e-9507-b7a6d5a7fdc6",
   "metadata": {},
   "outputs": [],
   "source": [
    "model = RNN(vocab_size, embedding_dim, hidden_size, output_size, num_cells)\n",
    "model_save_file_path = os.path.join(pp.rnn_models_folder_path, f'{str(num_rnn_cells).zfill(2)}.pth')\n",
    "model.load_state_dict(torch.load(model_save_file_path))"
   ]
  },
  {
   "cell_type": "code",
   "execution_count": null,
   "id": "385db138-ca15-4664-82ff-38fedea0008d",
   "metadata": {},
   "outputs": [],
   "source": [
    "device = torch.device('cuda' if torch.cuda.is_available() else 'cpu')\n",
    "model.to(device)\n",
    "model.eval()"
   ]
  },
  {
   "cell_type": "code",
   "execution_count": null,
   "id": "17109921-7aed-4574-8c48-0f505ef4ea69",
   "metadata": {},
   "outputs": [],
   "source": [
    "tp = fp = tn = fn = 0\n",
    "progress_bar = tqdm(total=num_val_batches, dynamic_ncols=True)\n",
    "for batch_idx, batch in enumerate(val_dataloader):\n",
    "    input_ids, labels = [item.to(device) for item in batch]\n",
    "\n",
    "    output_logits = model(input_ids)\n",
    "    probs = nn.functional.sigmoid(output_logits)\n",
    "    probs[probs >= 0.5] = 1\n",
    "    probs[probs < 0.5] = 0\n",
    "\n",
    "    tp += ((probs == 1.0) & (labels == 1.0)).sum()\n",
    "    fp += ((probs == 1.0) & (labels == 0.0)).sum()\n",
    "    tn += ((probs == 0.0) & (labels == 0.0)).sum()\n",
    "    fn += ((probs == 0.0) & (labels == 1.0)).sum()\n",
    "    progress_bar.update(1)\n",
    "\n",
    "progress_bar.close()\n",
    "\n",
    "accuracy = (tp + tn) / (tp + fp + tn + fn)\n",
    "precision = (tp) / (tp + fp)\n",
    "recall = (tp) / (tp + fn)\n",
    "\n",
    "print(f'Accuracy: {accuracy}')\n",
    "print(f'Precision: {precision}')\n",
    "print(f'Recall: {recall}')"
   ]
  },
  {
   "cell_type": "code",
   "execution_count": null,
   "id": "56c46431-3c8f-4e33-af1e-53a564dd760d",
   "metadata": {},
   "outputs": [],
   "source": []
  }
 ],
 "metadata": {
  "kernelspec": {
   "display_name": "Python 3 (ipykernel)",
   "language": "python",
   "name": "python3"
  },
  "language_info": {
   "codemirror_mode": {
    "name": "ipython",
    "version": 3
   },
   "file_extension": ".py",
   "mimetype": "text/x-python",
   "name": "python",
   "nbconvert_exporter": "python",
   "pygments_lexer": "ipython3",
   "version": "3.12.6"
  }
 },
 "nbformat": 4,
 "nbformat_minor": 5
}
