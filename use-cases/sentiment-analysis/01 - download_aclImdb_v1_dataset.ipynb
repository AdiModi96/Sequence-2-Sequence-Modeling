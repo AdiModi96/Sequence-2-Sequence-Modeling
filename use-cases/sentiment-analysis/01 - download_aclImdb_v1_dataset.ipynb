{
 "cells": [
  {
   "cell_type": "code",
   "execution_count": null,
   "id": "3db259d2-4258-415a-b757-b1ee2f144859",
   "metadata": {},
   "outputs": [],
   "source": [
    "import os\n",
    "import requests\n",
    "import tarfile\n",
    "import logging\n",
    "import project_paths as pp"
   ]
  },
  {
   "cell_type": "code",
   "execution_count": null,
   "id": "3796a607-cf76-4931-a11c-3f39514be3b2",
   "metadata": {},
   "outputs": [],
   "source": [
    "logger = logging.getLogger()\n",
    "logger.setLevel(logging.INFO)"
   ]
  },
  {
   "cell_type": "code",
   "execution_count": null,
   "id": "bc7d6bbc-57a7-43f1-a1ab-b18e765ed9d1",
   "metadata": {},
   "outputs": [],
   "source": [
    "def download_dataset_from_web(url: str, download_file_path: str) -> bool:\n",
    "    '''\n",
    "    Downloads a dataset from a given URL and saves it to the specified path.\n",
    "    \n",
    "    Args:\n",
    "        url (str): The URL from which to download the dataset\n",
    "        download_file_path (str): The local file path where the dataset should be saved\n",
    "        \n",
    "    Returns:\n",
    "        bool: True if download was successful, False otherwise\n",
    "        \n",
    "    The function downloads the file in chunks to handle large files efficiently.\n",
    "    If any error occurs during download, it will be logged and the function will return False.\n",
    "    '''\n",
    "    download_successful = False\n",
    "    try:\n",
    "        # Log the start of download\n",
    "        logger.info(f'Downloading the dataset from {url} ...')\n",
    "        \n",
    "        # Stream the download in chunks\n",
    "        with requests.get(url, stream=True) as response:\n",
    "            with open(download_file_path, 'wb') as file:\n",
    "                # Download and write chunks of 1KB each\n",
    "                for chunk in response.iter_content(chunk_size=1024):\n",
    "                    if chunk:  # Filter out keep-alive chunks\n",
    "                        file.write(chunk)\n",
    "                        \n",
    "        # Log successful download\n",
    "        logger.info(f'Dataset downloaded successfully to \"{download_file_path}\"!')\n",
    "        download_successful = True\n",
    "        \n",
    "    except Exception as exe:\n",
    "        logger.info('Trouble download the dataset')\n",
    "        \n",
    "    finally:\n",
    "        return download_successful"
   ]
  },
  {
   "cell_type": "code",
   "execution_count": null,
   "id": "c0513cfd-b6b6-4e30-ac64-a0cb82aa0393",
   "metadata": {},
   "outputs": [],
   "source": [
    "# Define the downloaded URL\n",
    "dataset_url = 'http://ai.stanford.edu/~amaas/data/sentiment/aclImdb_v1.tar.gz'\n",
    "# Define the path where the downloaded dataset will be saved\n",
    "download_file_path = os.path.join(pp.datasets_folder_path, 'aclImdb_v1.tar.gz')\n",
    "\n",
    "# Download the dataset from the URL and save it to the specified path\n",
    "download_dataset_from_web(dataset_url, download_file_path)\n",
    "\n",
    "# Extract the dataset from the downloaded file\n",
    "with tarfile.open(download_file_path, 'r:gz') as tar_file:\n",
    "    tar_file.extractall(path=pp.datasets_folder_path)\n",
    "\n",
    "# Log the completion of the extraction process\n",
    "logger.info(f'Dataset extracted at \"{pp.datasets_folder_path}\"')"
   ]
  },
  {
   "cell_type": "code",
   "execution_count": null,
   "id": "e522d696",
   "metadata": {},
   "outputs": [],
   "source": []
  }
 ],
 "metadata": {
  "kernelspec": {
   "display_name": "Python 3 (ipykernel)",
   "language": "python",
   "name": "python3"
  },
  "language_info": {
   "codemirror_mode": {
    "name": "ipython",
    "version": 3
   },
   "file_extension": ".py",
   "mimetype": "text/x-python",
   "name": "python",
   "nbconvert_exporter": "python",
   "pygments_lexer": "ipython3",
   "version": "3.12.6"
  }
 },
 "nbformat": 4,
 "nbformat_minor": 5
}
