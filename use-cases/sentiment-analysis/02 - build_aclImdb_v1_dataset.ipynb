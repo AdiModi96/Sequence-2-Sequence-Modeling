{
 "cells": [
  {
   "cell_type": "code",
   "execution_count": null,
   "id": "a4d6fc9e-328d-42ea-babd-ff6b4fd15fc3",
   "metadata": {},
   "outputs": [],
   "source": [
    "import os.path\n",
    "from typing import *\n",
    "import datasets\n",
    "from datasets import Dataset\n",
    "from tqdm.auto import tqdm\n",
    "import project_paths as pp"
   ]
  },
  {
   "cell_type": "code",
   "execution_count": null,
   "id": "c1ff8ecc-f065-4a89-8cee-2e17a11c6c83",
   "metadata": {},
   "outputs": [],
   "source": [
    "def build_IMDB_sentiment_analysis_dataset(dataset_type: Literal['train', 'test'] = 'train') -> int:\n",
    "    '''Build a Hugging Face Dataset from the IMDB sentiment analysis dataset.\n",
    "\n",
    "    This function reads the IMDB movie review files from disk and creates a Hugging Face Dataset\n",
    "    with 'text' and 'label' columns. The dataset is then saved to disk.\n",
    "\n",
    "    Args:\n",
    "        dataset_type: Either 'train' or 'test' to specify which dataset split to build\n",
    "\n",
    "    Returns:\n",
    "        int: The number of examples in the created dataset\n",
    "\n",
    "    Raises:\n",
    "        ValueError: If dataset_type is not 'train' or 'test'\n",
    "    '''\n",
    "    # This function processes the IMDB sentiment analysis dataset which consists of movie reviews\n",
    "    # labeled as either positive ('pos') or negative ('neg') sentiment. The reviews are stored\n",
    "    # as individual text files in separate folders for each label.\n",
    "    \n",
    "    # Input validation\n",
    "    if dataset_type == 'train':\n",
    "        dataset_type_folder_path = os.path.join(pp.aclImdb_dataset_folder_path, 'train')\n",
    "    elif dataset_type == 'test':\n",
    "        dataset_type_folder_path = os.path.join(pp.aclImdb_dataset_folder_path, 'test')\n",
    "    else:\n",
    "        raise ValueError('Invalid value encountered for \"dataset_type\"')\n",
    "\n",
    "    label_and_respective_folder_path = {\n",
    "        'pos': os.path.join(dataset_type_folder_path, 'pos'),\n",
    "        'neg': os.path.join(dataset_type_folder_path, 'neg')\n",
    "    }\n",
    "    dataset = {\n",
    "        'text': [],\n",
    "        'label': []\n",
    "    }\n",
    "\n",
    "    for label, folder_path in label_and_respective_folder_path.items():\n",
    "        item_names = os.listdir(folder_path)\n",
    "        progress_bar = tqdm(total=len(item_names), dynamic_ncols=True)\n",
    "        for idx, item_name in enumerate(item_names):\n",
    "            item_file_path = os.path.join(folder_path, item_name)\n",
    "            if os.path.splitext(item_file_path)[1] == '.txt':\n",
    "                with open(item_file_path, encoding='utf-8') as file:\n",
    "                    dataset['text'].append(file.read())\n",
    "                    dataset['label'].append(label)\n",
    "            progress_bar.update(1)\n",
    "        progress_bar.close()\n",
    "\n",
    "    dataset = Dataset.from_dict(dataset)\n",
    "    dataset.save_to_disk(dataset_type_folder_path)\n",
    "\n",
    "    return len(dataset)"
   ]
  },
  {
   "cell_type": "code",
   "execution_count": null,
   "id": "e048becc-1367-40c4-aaf2-740bc7d4b22d",
   "metadata": {},
   "outputs": [],
   "source": [
    "build_IMDB_sentiment_analysis_dataset(dataset_type='train')\n",
    "build_IMDB_sentiment_analysis_dataset(dataset_type='test')"
   ]
  },
  {
   "cell_type": "code",
   "execution_count": null,
   "id": "fbd19cc0-f14c-4b7d-89a7-5fc8f343493b",
   "metadata": {},
   "outputs": [],
   "source": []
  }
 ],
 "metadata": {
  "kernelspec": {
   "display_name": "Python 3 (ipykernel)",
   "language": "python",
   "name": "python3"
  },
  "language_info": {
   "codemirror_mode": {
    "name": "ipython",
    "version": 3
   },
   "file_extension": ".py",
   "mimetype": "text/x-python",
   "name": "python",
   "nbconvert_exporter": "python",
   "pygments_lexer": "ipython3",
   "version": "3.12.6"
  }
 },
 "nbformat": 4,
 "nbformat_minor": 5
}
